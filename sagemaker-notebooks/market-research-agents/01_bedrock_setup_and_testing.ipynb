{
 "cells": [
  {
   "cell_type": "markdown",
   "metadata": {},
   "source": [
    "# 🚀 Multi-Agent Platform: Bedrock Setup & Testing\n",
    "\n",
    "This notebook sets up the environment and tests Amazon Bedrock connectivity for our Multi-Agent Orchestration Platform.\n",
    "\n",
    "## What we'll accomplish:\n",
    "1. Install required packages\n",
    "2. Configure AWS credentials and region\n",
    "3. Test Bedrock model access\n",
    "4. Create base agent framework\n",
    "5. Test individual models (Claude 3 Sonnet, Haiku, Titan)"
   ]
  },
  {
   "cell_type": "markdown",
   "metadata": {},
   "source": [
    "## 📦 Install Required Packages"
   ]
  },
  {
   "cell_type": "code",
   "execution_count": null,
   "metadata": {},
   "outputs": [],
   "source": [
    "# Install required packages\n",
    "!pip install langchain langchain-aws boto3 redis pandas numpy matplotlib seaborn\n",
    "!pip install fastapi uvicorn python-dotenv httpx"
   ]
  },
  {
   "cell_type": "markdown",
   "metadata": {},
   "source": [
    "## 🔧 Environment Setup"
   ]
  },
  {
   "cell_type": "code",
   "execution_count": null,
   "metadata": {},
   "outputs": [],
   "source": [
    "import boto3\n",
    "import json\n",
    "import os\n",
    "from datetime import datetime\n",
    "import pandas as pd\n",
    "import matplotlib.pyplot as plt\n",
    "import seaborn as sns\n",
    "\n",
    "# Set up plotting\n",
    "plt.style.use('default')\n",
    "sns.set_palette(\"husl\")\n",
    "\n",
    "# Configure AWS region\n",
    "AWS_REGION = 'us-east-1'\n",
    "os.environ['AWS_DEFAULT_REGION'] = AWS_REGION\n",
    "\n",
    "print(f\"✅ Environment configured for region: {AWS_REGION}\")\n",
    "print(f\"✅ Current time: {datetime.now()}\")"
   ]
  },
  {
   "cell_type": "markdown",
   "metadata": {},
   "source": [
    "## 🔐 AWS Credentials Check"
   ]
  },
  {
   "cell_type": "code",
   "execution_count": null,
   "metadata": {},
   "outputs": [],
   "source": [
    "# Check AWS credentials and permissions\n",
    "try:\n",
    "    sts = boto3.client('sts')\n",
    "    identity = sts.get_caller_identity()\n",
    "    \n",
    "    print(\"✅ AWS Credentials Valid\")\n",
    "    print(f\"Account ID: {identity['Account']}\")\n",
    "    print(f\"User ARN: {identity['Arn']}\")\n",
    "    \n",
    "except Exception as e:\n",
    "    print(f\"❌ AWS Credentials Error: {e}\")\n",
    "    print(\"Please ensure your SageMaker execution role has proper permissions\")"
   ]
  },
  {
   "cell_type": "markdown",
   "metadata": {},
   "source": [
    "## 🤖 Test Bedrock Model Access"
   ]
  },
  {
   "cell_type": "code",
   "execution_count": null,
   "metadata": {},
   "outputs": [],
   "source": [
    "# Initialize Bedrock client\n",
    "bedrock = boto3.client('bedrock', region_name=AWS_REGION)\n",
    "bedrock_runtime = boto3.client('bedrock-runtime', region_name=AWS_REGION)\n",
    "\n",
    "# List available foundation models\n",
    "try:\n",
    "    models = bedrock.list_foundation_models()\n",
    "    \n",
    "    print(\"🤖 Available Bedrock Models:\")\n",
    "    print(\"=\" * 50)\n",
    "    \n",
    "    for model in models['modelSummaries']:\n",
    "        print(f\"Model ID: {model['modelId']}\")\n",
    "        print(f\"Provider: {model['providerName']}\")\n",
    "        print(f\"Name: {model['modelName']}\")\n",
    "        print(\"-\" * 30)\n",
    "        \n",
    "except Exception as e:\n",
    "    print(f\"❌ Error listing models: {e}\")"
   ]
  },
  {
   "cell_type": "markdown",
   "metadata": {},
   "source": [
    "## 🧪 Test Claude 3 Sonnet (Market Research Agent)"
   ]
  },
  {
   "cell_type": "code",
   "execution_count": null,
   "metadata": {},
   "outputs": [],
   "source": [
    "def test_claude_sonnet(prompt):\n",
    "    \"\"\"Test Claude 3 Sonnet model\"\"\"\n",
    "    try:\n",
    "        body = json.dumps({\n",
    "            \"messages\": [{\"role\": \"user\", \"content\": prompt}],\n",
    "            \"max_tokens\": 1000,\n",
    "            \"temperature\": 0.7,\n",
    "            \"anthropic_version\": \"bedrock-2023-05-31\"\n",
    "        })\n",
    "        \n",
    "        response = bedrock_runtime.invoke_model(\n",
    "            modelId=\"anthropic.claude-3-sonnet-20240229-v1:0\",\n",
    "            body=body\n",
    "        )\n",
    "        \n",
    "        response_body = json.loads(response['body'].read())\n",
    "        return response_body['content'][0]['text']\n",
    "        \n",
    "    except Exception as e:\n",
    "        return f\"Error: {e}\"\n",
    "\n",
    "# Test market research prompt\n",
    "market_prompt = \"\"\"\n",
    "Analyze the smartphone market in Germany. Include:\n",
    "1. Market size and growth rate\n",
    "2. Top 3 competitors and their market share\n",
    "3. Key consumer trends\n",
    "4. Opportunities for a new entrant\n",
    "\n",
    "Provide specific data and actionable insights.\n",
    "\"\"\"\n",
    "\n",
    "print(\"🧪 Testing Claude 3 Sonnet for Market Research...\")\n",
    "print(\"=\" * 60)\n",
    "\n",
    "sonnet_result = test_claude_sonnet(market_prompt)\n",
    "print(sonnet_result)\n",
    "\n",
    "if \"Error\" not in sonnet_result:\n",
    "    print(\"\\n✅ Claude 3 Sonnet test successful!\")\n",
    "else:\n",
    "    print(\"\\n❌ Claude 3 Sonnet test failed!\")"
   ]
  },
  {
   "cell_type": "markdown",
   "metadata": {},
   "source": [
    "## ⚡ Test Claude 3 Haiku (Risk Assessment Agent)"
   ]
  },
  {
   "cell_type": "code",
   "execution_count": null,
   "metadata": {},
   "outputs": [],
   "source": [
    "def test_claude_haiku(prompt):\n",
    "    \"\"\"Test Claude 3 Haiku model\"\"\"\n",
    "    try:\n",
    "        body = json.dumps({\n",
    "            \"messages\": [{\"role\": \"user\", \"content\": prompt}],\n",
    "            \"max_tokens\": 500,\n",
    "            \"temperature\": 0.3,\n",
    "            \"anthropic_version\": \"bedrock-2023-05-31\"\n",
    "        })\n",
    "        \n",
    "        response = bedrock_runtime.invoke_model(\n",
    "            modelId=\"anthropic.claude-3-haiku-20240307-v1:0\",\n",
    "            body=body\n",
    "        )\n",
    "        \n",
    "        response_body = json.loads(response['body'].read())\n",
    "        return response_body['content'][0]['text']\n",
    "        \n",
    "    except Exception as e:\n",
    "        return f\"Error: {e}\"\n",
    "\n",
    "# Test risk assessment prompt\n",
    "risk_prompt = \"\"\"\n",
    "Rate the political risk (1-10 scale) for a technology company entering the Brazilian market. Consider:\n",
    "- Government stability\n",
    "- Regulatory environment\n",
    "- Policy consistency\n",
    "- International relations\n",
    "\n",
    "Provide the rating and 3 key risk factors.\n",
    "\"\"\"\n",
    "\n",
    "print(\"⚡ Testing Claude 3 Haiku for Risk Assessment...\")\n",
    "print(\"=\" * 60)\n",
    "\n",
    "haiku_result = test_claude_haiku(risk_prompt)\n",
    "print(haiku_result)\n",
    "\n",
    "if \"Error\" not in haiku_result:\n",
    "    print(\"\\n✅ Claude 3 Haiku test successful!\")\n",
    "else:\n",
    "    print(\"\\n❌ Claude 3 Haiku test failed!\")"
   ]
  },
  {
   "cell_type": "markdown",
   "metadata": {},
   "source": [
    "## 🏗️ Create Base Agent Framework"
   ]
  },
  {
   "cell_type": "code",
   "execution_count": null,
   "metadata": {},
   "outputs": [],
   "source": [
    "class SageMakerBedrockAgent:\n",
    "    \"\"\"Base agent class for SageMaker + Bedrock implementation\"\"\"\n",
    "    \n",
    "    def __init__(self, agent_id: str, model_id: str, region: str = 'us-east-1'):\n",
    "        self.agent_id = agent_id\n",
    "        self.model_id = model_id\n",
    "        self.region = region\n",
    "        self.bedrock_runtime = boto3.client('bedrock-runtime', region_name=region)\n",
    "        \n",
    "        print(f\"✅ Initialized {agent_id} with model {model_id}\")\n",
    "    \n",
    "    def invoke_model(self, prompt: str, max_tokens: int = 1000, temperature: float = 0.7):\n",
    "        \"\"\"Invoke Bedrock model with prompt\"\"\"\n",
    "        try:\n",
    "            if \"claude\" in self.model_id:\n",
    "                body = json.dumps({\n",
    "                    \"messages\": [{\"role\": \"user\", \"content\": prompt}],\n",
    "                    \"max_tokens\": max_tokens,\n",
    "                    \"temperature\": temperature,\n",
    "                    \"anthropic_version\": \"bedrock-2023-05-31\"\n",
    "                })\n",
    "            else:  # Titan or other models\n",
    "                body = json.dumps({\n",
    "                    \"inputText\": prompt,\n",
    "                    \"textGenerationConfig\": {\n",
    "                        \"maxTokenCount\": max_tokens,\n",
    "                        \"temperature\": temperature\n",
    "                    }\n",
    "                })\n",
    "            \n",
    "            response = self.bedrock_runtime.invoke_model(\n",
    "                modelId=self.model_id,\n",
    "                body=body\n",
    "            )\n",
    "            \n",
    "            response_body = json.loads(response['body'].read())\n",
    "            \n",
    "            if \"claude\" in self.model_id:\n",
    "                return response_body['content'][0]['text']\n",
    "            else:\n",
    "                return response_body['results'][0]['outputText']\n",
    "                \n",
    "        except Exception as e:\n",
    "            return f\"Error invoking model: {e}\"\n",
    "    \n",
    "    def process_task(self, task_data: dict):\n",
    "        \"\"\"Process a task - to be overridden by specific agents\"\"\"\n",
    "        raise NotImplementedError(\"Subclasses must implement process_task\")\n",
    "\n",
    "print(\"✅ Base agent framework created!\")"
   ]
  },
  {
   "cell_type": "markdown",
   "metadata": {},
   "source": [
    "## 📊 Performance Comparison"
   ]
  },
  {
   "cell_type": "code",
   "execution_count": null,
   "metadata": {},
   "outputs": [],
   "source": [
    "import time\n",
    "\n",
    "# Test performance of different models\n",
    "def benchmark_models():\n",
    "    \"\"\"Benchmark different Bedrock models\"\"\"\n",
    "    \n",
    "    test_prompt = \"Analyze the technology market opportunities in Japan in 2 paragraphs.\"\n",
    "    \n",
    "    models_to_test = [\n",
    "        (\"Claude 3 Sonnet\", \"anthropic.claude-3-sonnet-20240229-v1:0\"),\n",
    "        (\"Claude 3 Haiku\", \"anthropic.claude-3-haiku-20240307-v1:0\")\n",
    "    ]\n",
    "    \n",
    "    results = []\n",
    "    \n",
    "    for model_name, model_id in models_to_test:\n",
    "        print(f\"Testing {model_name}...\")\n",
    "        \n",
    "        agent = SageMakerBedrockAgent(f\"test_{model_name.lower().replace(' ', '_')}\", model_id)\n",
    "        \n",
    "        start_time = time.time()\n",
    "        response = agent.invoke_model(test_prompt, max_tokens=500)\n",
    "        end_time = time.time()\n",
    "        \n",
    "        response_time = end_time - start_time\n",
    "        response_length = len(response) if \"Error\" not in response else 0\n",
    "        \n",
    "        results.append({\n",
    "            'Model': model_name,\n",
    "            'Response Time (s)': round(response_time, 2),\n",
    "            'Response Length': response_length,\n",
    "            'Success': \"Error\" not in response\n",
    "        })\n",
    "        \n",
    "        print(f\"  ⏱️  Response time: {response_time:.2f}s\")\n",
    "        print(f\"  📝 Response length: {response_length} characters\")\n",
    "        print(f\"  ✅ Success: {'Yes' if 'Error' not in response else 'No'}\")\n",
    "        print()\n",
    "    \n",
    "    return pd.DataFrame(results)\n",
    "\n",
    "# Run benchmark\n",
    "print(\"🏁 Running model performance benchmark...\")\n",
    "benchmark_df = benchmark_models()\n",
    "\n",
    "print(\"📊 Benchmark Results:\")\n",
    "print(benchmark_df.to_string(index=False))"
   ]
  },
  {
   "cell_type": "markdown",
   "metadata": {},
   "source": [
    "## 📈 Visualize Performance"
   ]
  },
  {
   "cell_type": "code",
   "execution_count": null,
   "metadata": {},
   "outputs": [],
   "source": [
    "# Create performance visualization\n",
    "fig, (ax1, ax2) = plt.subplots(1, 2, figsize=(12, 5))\n",
    "\n",
    "# Response time comparison\n",
    "ax1.bar(benchmark_df['Model'], benchmark_df['Response Time (s)'], color=['#FF6B6B', '#4ECDC4'])\n",
    "ax1.set_title('Model Response Time Comparison')\n",
    "ax1.set_ylabel('Response Time (seconds)')\n",
    "ax1.tick_params(axis='x', rotation=45)\n",
    "\n",
    "# Response length comparison\n",
    "ax2.bar(benchmark_df['Model'], benchmark_df['Response Length'], color=['#45B7D1', '#96CEB4'])\n",
    "ax2.set_title('Response Length Comparison')\n",
    "ax2.set_ylabel('Response Length (characters)')\n",
    "ax2.tick_params(axis='x', rotation=45)\n",
    "\n",
    "plt.tight_layout()\n",
    "plt.show()\n",
    "\n",
    "print(\"📊 Performance visualization complete!\")"
   ]
  },
  {
   "cell_type": "markdown",
   "metadata": {},
   "source": [
    "## ✅ Setup Summary\n",
    "\n",
    "This notebook has:\n",
    "1. ✅ Installed required packages for Bedrock integration\n",
    "2. ✅ Configured AWS environment and tested credentials\n",
    "3. ✅ Listed available Bedrock models\n",
    "4. ✅ Tested Claude 3 Sonnet for complex analysis\n",
    "5. ✅ Tested Claude 3 Haiku for fast processing\n",
    "6. ✅ Created base agent framework for SageMaker\n",
    "7. ✅ Benchmarked model performance\n",
    "8. ✅ Visualized performance metrics\n",
    "\n",
    "**Next Steps:**\n",
    "- Proceed to Notebook 2: Market Research Agent Implementation\n",
    "- Use the base framework to build specialized agents\n",
    "- Test with real market data and scenarios"
   ]
  }
 ],
 "metadata": {
  "kernelspec": {
   "display_name": "Python 3",
   "language": "python",
   "name": "python3"
  },
  "language_info": {
   "codemirror_mode": {
    "name": "ipython",
    "version": 3
   },
   "file_extension": ".py",
   "mimetype": "text/x-python",
   "name": "python",
   "nbconvert_exporter": "python",
   "pygments_lexer": "ipython3",
   "version": "3.8.5"
  }
 },
 "nbformat": 4,
 "nbformat_minor": 4
}